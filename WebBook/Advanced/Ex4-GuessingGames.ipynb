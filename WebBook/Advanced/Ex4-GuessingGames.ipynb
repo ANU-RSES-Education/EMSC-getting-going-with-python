{
  "cells": [
    {
      "cell_type": "raw",
      "metadata": {},
      "source": [
        "---\n",
        "title: Guessing Games\n",
        "author:\n",
        "  - Andrew Valentine\n",
        "  - Louis Moresi\n",
        "---"
      ],
      "id": "5e6bf7b2"
    },
    {
      "cell_type": "markdown",
      "metadata": {},
      "source": [
        "**&#10148; Try playing this simple game.**\n"
      ],
      "id": "599884b6"
    },
    {
      "cell_type": "code",
      "metadata": {},
      "source": [
        "import numpy as np\n",
        "import sys\n",
        "import os\n",
        "sys.path.append(os.getcwd()+'/.hidden/')\n",
        "import guessingGames as gg\n",
        "gg.guessingGame(nmax=10)"
      ],
      "id": "0da71545",
      "execution_count": null,
      "outputs": []
    },
    {
      "cell_type": "markdown",
      "metadata": {},
      "source": [
        "**&#10148; Can you write your own version?**\n",
        "\n",
        "A couple of hints to help you:\n",
        "- To read input from the keyboard, you can use \n",
        "```python\n",
        "x = input(message)\n",
        "```\n",
        "\n",
        "where `message` is the prompt shown to the user (e.g. 'Make a guess:' in `gg.guessingGame`). Whatever the user types in gets stored in the variable `x`. Note that `x` contains a string of characters, even if the user types in a number. You can use `int(x)` to convert the input to an integer (and `float(x)` if you want to convert it to a floating-point number).\n",
        "\n",
        "  - To generate a random integer, you can call the function `np.random.randint(lo,hi)` where `lo` is the smallest integer you want to generate, and `hi` is **one greater than** the largest integer.\n"
      ],
      "id": "0d1392c3"
    },
    {
      "cell_type": "code",
      "metadata": {},
      "source": [
        "# Try it here!"
      ],
      "id": "bdf42c1a",
      "execution_count": null,
      "outputs": []
    },
    {
      "cell_type": "markdown",
      "metadata": {},
      "source": [
        "###### What happens if the user types something in that isn't an integer? Can you make your version robust?\n",
        "\n",
        "**&#10148; Here's another one to play:**\n"
      ],
      "id": "34454a44"
    },
    {
      "cell_type": "code",
      "metadata": {},
      "source": [
        "gg.higherOrLower(nmax=100)"
      ],
      "id": "ebdcee6c",
      "execution_count": null,
      "outputs": []
    },
    {
      "cell_type": "markdown",
      "metadata": {},
      "source": [
        "**&#10148; Try writing your own version.**\n",
        "\n",
        "You should be able to use the code you wrote for `guessingGame` as a starting point.\n"
      ],
      "id": "b1b10fac"
    },
    {
      "cell_type": "code",
      "metadata": {},
      "source": [
        "# Try it here!"
      ],
      "id": "3800a3ff",
      "execution_count": null,
      "outputs": []
    },
    {
      "cell_type": "markdown",
      "metadata": {},
      "source": [
        "**&#10148; Here's a final one to try.**\n"
      ],
      "id": "d50850db"
    },
    {
      "cell_type": "code",
      "metadata": {},
      "source": [
        "gg.montyHall(3)"
      ],
      "id": "de8ad6a3",
      "execution_count": null,
      "outputs": []
    },
    {
      "cell_type": "markdown",
      "metadata": {},
      "source": [
        "**&#10148; Can you make your own version?**\n"
      ],
      "id": "52566021"
    },
    {
      "cell_type": "code",
      "metadata": {},
      "source": [
        "# Try it here!"
      ],
      "id": "93d41cc3",
      "execution_count": null,
      "outputs": []
    }
  ],
  "metadata": {
    "kernelspec": {
      "display_name": "Python 3",
      "language": "python",
      "name": "python3"
    }
  },
  "nbformat": 4,
  "nbformat_minor": 5
}