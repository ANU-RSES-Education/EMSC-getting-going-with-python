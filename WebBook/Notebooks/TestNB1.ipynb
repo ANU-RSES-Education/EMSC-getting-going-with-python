{
 "cells": [
  {
   "cell_type": "markdown",
   "id": "00052db9-cdb8-4d7d-8e0d-3e108a9da474",
   "metadata": {},
   "source": [
    "# Test Notebook\n",
    "\n"
   ]
  },
  {
   "cell_type": "code",
   "execution_count": null,
   "id": "d9b6cb04-b4a4-452f-9cbe-e1e5e7e42df1",
   "metadata": {},
   "outputs": [],
   "source": [
    "for i in range(0,10):\n",
    "    print(i)"
   ]
  }
 ],
 "metadata": {
  "kernelspec": {
   "display_name": "Python 3 (ipykernel)",
   "language": "python",
   "name": "python3"
  },
  "language_info": {
   "codemirror_mode": {
    "name": "ipython",
    "version": 3
   },
   "file_extension": ".py",
   "mimetype": "text/x-python",
   "name": "python",
   "nbconvert_exporter": "python",
   "pygments_lexer": "ipython3",
   "version": "3.10.13"
  }
 },
 "nbformat": 4,
 "nbformat_minor": 5
}
